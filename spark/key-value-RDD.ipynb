{
 "cells": [
  {
   "cell_type": "code",
   "execution_count": 2,
   "id": "5f13a84f-b1aa-4ec6-b7d4-de4350a9c868",
   "metadata": {},
   "outputs": [],
   "source": [
    "from pyspark import SparkConf, SparkContext\n",
    "\n",
    "conf = SparkConf().setMaster(\"local\").setAppName('restaurant-average')\n",
    "sc = SparkContext(conf = conf)"
   ]
  },
  {
   "cell_type": "code",
   "execution_count": 3,
   "id": "8fa9a677-4f14-44de-ab18-ce7ecb2bb2b1",
   "metadata": {},
   "outputs": [
    {
     "data": {
      "text/plain": [
       "['id,item,cateogry,reviews',\n",
       " '0,짜장면,중식,125',\n",
       " '1,짬뽕,중식,235,',\n",
       " '2,김밥,분식,32',\n",
       " '3,떡볶이,분식,534',\n",
       " '4,라멘,일식,223   ',\n",
       " '5,돈가스,일식,52',\n",
       " '6,우동,일식,12',\n",
       " '7,쌀국수,아시안,312',\n",
       " '8,햄버거,패스트푸드,12',\n",
       " '9,치킨,패스트푸드,23']"
      ]
     },
     "execution_count": 3,
     "metadata": {},
     "output_type": "execute_result"
    }
   ],
   "source": [
    "directory = '/Users/admin/Desktop/spark_hadoop/data-engineering/01-spark'\n",
    "filename = 'restaurant_reviews.csv'\n",
    "\n",
    "lines = sc.textFile(f\"file:///{directory}/{filename}\")\n",
    "\n",
    "\n",
    "lines.collect()"
   ]
  },
  {
   "cell_type": "code",
   "execution_count": 7,
   "id": "de385c80-5ea8-4645-b7a0-8478a5a32a68",
   "metadata": {},
   "outputs": [
    {
     "data": {
      "text/plain": [
       "['0,짜장면,중식,125',\n",
       " '1,짬뽕,중식,235,',\n",
       " '2,김밥,분식,32',\n",
       " '3,떡볶이,분식,534',\n",
       " '4,라멘,일식,223   ',\n",
       " '5,돈가스,일식,52',\n",
       " '6,우동,일식,12',\n",
       " '7,쌀국수,아시안,312',\n",
       " '8,햄버거,패스트푸드,12',\n",
       " '9,치킨,패스트푸드,23']"
      ]
     },
     "execution_count": 7,
     "metadata": {},
     "output_type": "execute_result"
    }
   ],
   "source": [
    "header = lines.first()\n",
    "\n",
    "filtered_lines = lines.filter(lambda x:x != header)\n",
    "\n",
    "filtered_lines.collect()"
   ]
  },
  {
   "cell_type": "code",
   "execution_count": 9,
   "id": "0e8f317d-b5c3-436f-8a57-a5f143b3efa1",
   "metadata": {},
   "outputs": [
    {
     "data": {
      "text/plain": [
       "[('중식', 125),\n",
       " ('중식', 235),\n",
       " ('분식', 32),\n",
       " ('분식', 534),\n",
       " ('일식', 223),\n",
       " ('일식', 52),\n",
       " ('일식', 12),\n",
       " ('아시안', 312),\n",
       " ('패스트푸드', 12),\n",
       " ('패스트푸드', 23)]"
      ]
     },
     "execution_count": 9,
     "metadata": {},
     "output_type": "execute_result"
    }
   ],
   "source": [
    "def parse(row):\n",
    "    col = row.split(',')\n",
    "    category = col[2]\n",
    "    reviews = int(col[3])\n",
    "    return (category, reviews)\n",
    "\n",
    "category_review = filtered_lines.map(parse)\n",
    "\n",
    "category_review.collect()"
   ]
  },
  {
   "cell_type": "code",
   "execution_count": 10,
   "id": "0cdf0595",
   "metadata": {},
   "outputs": [
    {
     "data": {
      "text/plain": [
       "[('중식', (125, 1)),\n",
       " ('중식', (235, 1)),\n",
       " ('분식', (32, 1)),\n",
       " ('분식', (534, 1)),\n",
       " ('일식', (223, 1)),\n",
       " ('일식', (52, 1)),\n",
       " ('일식', (12, 1)),\n",
       " ('아시안', (312, 1)),\n",
       " ('패스트푸드', (12, 1)),\n",
       " ('패스트푸드', (23, 1))]"
      ]
     },
     "execution_count": 10,
     "metadata": {},
     "output_type": "execute_result"
    }
   ],
   "source": [
    "category_reviews_count = category_review.mapValues(lambda x: (x, 1))\n",
    "\n",
    "category_reviews_count.collect()"
   ]
  },
  {
   "cell_type": "code",
   "execution_count": 20,
   "id": "6fec00a4",
   "metadata": {},
   "outputs": [
    {
     "data": {
      "text/plain": [
       "[('중식', (360, 2)),\n",
       " ('분식', (566, 2)),\n",
       " ('일식', (287, 3)),\n",
       " ('아시안', (312, 1)),\n",
       " ('패스트푸드', (35, 2))]"
      ]
     },
     "execution_count": 20,
     "metadata": {},
     "output_type": "execute_result"
    }
   ],
   "source": [
    "reduced = category_reviews_count.reduceByKey(lambda x, y: (x[0] + y[0], x[1] + y[1]))\n",
    "\n",
    "reduced.collect()"
   ]
  },
  {
   "cell_type": "code",
   "execution_count": 22,
   "id": "abce07d3",
   "metadata": {},
   "outputs": [
    {
     "data": {
      "text/plain": [
       "[('중식', 180.0), ('분식', 283.0), ('일식', 95.67), ('아시안', 312.0), ('패스트푸드', 17.5)]"
      ]
     },
     "execution_count": 22,
     "metadata": {},
     "output_type": "execute_result"
    }
   ],
   "source": [
    "average = reduced.mapValues(lambda x: round(x[0]/x[1], 2))\n",
    "average.collect()"
   ]
  }
 ],
 "metadata": {
  "kernelspec": {
   "display_name": "Python 3 (ipykernel)",
   "language": "python",
   "name": "python3"
  },
  "language_info": {
   "codemirror_mode": {
    "name": "ipython",
    "version": 3
   },
   "file_extension": ".py",
   "mimetype": "text/x-python",
   "name": "python",
   "nbconvert_exporter": "python",
   "pygments_lexer": "ipython3",
   "version": "3.8.0"
  }
 },
 "nbformat": 4,
 "nbformat_minor": 5
}
