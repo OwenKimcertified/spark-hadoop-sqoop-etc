{
 "cells": [
  {
   "cell_type": "code",
   "execution_count": 3,
   "metadata": {},
   "outputs": [],
   "source": [
    "from pyspark.sql import SparkSession\n",
    "\n",
    "ss = SparkSession.builder.master('local').appName('newbe spark-sql').getOrCreate()"
   ]
  },
  {
   "cell_type": "code",
   "execution_count": 55,
   "metadata": {},
   "outputs": [],
   "source": [
    "from pyspark.sql.types import StringType, IntegerType, FloatType, StructType, StructField"
   ]
  },
  {
   "cell_type": "code",
   "execution_count": 56,
   "metadata": {},
   "outputs": [],
   "source": [
    "stocks = [\n",
    "    ('Google', 'GOOGL', 'USA', 2984, 'USD'),\n",
    "    ('Netflix', 'NFLX', 'USA', 645, 'USD'),\n",
    "    ('Amazon', 'AMZN', 'USA', 3518, 'USD'),\n",
    "    ('Tesla', 'TSLA', 'USD', 1222, 'USD'),\n",
    "    ('Tencent', '0070', 'HONG KONG', 483, 'HKD'),\n",
    "    ('Toyota', '7203', 'Japan', 2006, 'JPY'),\n",
    "    ('Samsung', '005930', 'Korea', 70600, 'KRW'),\n",
    "    ('Kakao', '035720', 'Korea', 125000, 'KRW'),\n",
    "]\n",
    "\n",
    "stockschema = ['name', 'ticker', 'country', 'price', 'currency']\n",
    "\n",
    "earnings = [\n",
    "    ('Google', 27.99, 'USD'),\n",
    "    ('Netflix', 2.56, 'USD'),\n",
    "    ('Amazon', 6.12, 'USD'),\n",
    "    ('Tesla', 1.86, 'USD'),\n",
    "    ('Tencent', 11.01, 'HKD'),\n",
    "    ('Toyota', 224.82, 'JPY'),\n",
    "    ('Samsung', 1780., 'KRW'),\n",
    "    ('Kakao', 705., 'KRW'),    \n",
    "]\n",
    "\n",
    "earningschema = StructType([\n",
    "    StructField('name', StringType(), True),\n",
    "    StructField('eps', FloatType(), True),\n",
    "    StructField('currency', StringType(), True)\n",
    "])"
   ]
  },
  {
   "cell_type": "code",
   "execution_count": 9,
   "metadata": {},
   "outputs": [],
   "source": [
    "df = ss.createDataFrame(data = stocks, schema = stockschema)"
   ]
  },
  {
   "cell_type": "code",
   "execution_count": 57,
   "metadata": {},
   "outputs": [],
   "source": [
    "df2 = ss.createDataFrame(data = earnings, schema = earningschema)"
   ]
  },
  {
   "cell_type": "code",
   "execution_count": 12,
   "metadata": {},
   "outputs": [
    {
     "data": {
      "text/plain": [
       "[('name', 'string'),\n",
       " ('ticker', 'string'),\n",
       " ('country', 'string'),\n",
       " ('price', 'bigint'),\n",
       " ('currency', 'string')]"
      ]
     },
     "execution_count": 12,
     "metadata": {},
     "output_type": "execute_result"
    }
   ],
   "source": [
    "df.dtypes"
   ]
  },
  {
   "cell_type": "code",
   "execution_count": 58,
   "metadata": {},
   "outputs": [
    {
     "data": {
      "text/plain": [
       "[('name', 'string'), ('eps', 'float'), ('currency', 'string')]"
      ]
     },
     "execution_count": 58,
     "metadata": {},
     "output_type": "execute_result"
    }
   ],
   "source": [
    "df2.dtypes"
   ]
  },
  {
   "cell_type": "code",
   "execution_count": 10,
   "metadata": {},
   "outputs": [
    {
     "name": "stdout",
     "output_type": "stream",
     "text": [
      "+-------+------+---------+------+--------+\n",
      "|   name|ticker|  country| price|currency|\n",
      "+-------+------+---------+------+--------+\n",
      "| Google| GOOGL|      USA|  2984|     USD|\n",
      "|Netflix|  NFLX|      USA|   645|     USD|\n",
      "| Amazon|  AMZN|      USA|  3518|     USD|\n",
      "|  Tesla|  TSLA|      USD|  1222|     USD|\n",
      "|Tencent|  0070|HONG KONG|   483|     HKD|\n",
      "| Toyota|  7203|    Japan|  2006|     JPY|\n",
      "|Samsung|005930|    Korea| 70600|     KRW|\n",
      "|  Kakao|035720|    Korea|125000|     KRW|\n",
      "+-------+------+---------+------+--------+\n",
      "\n"
     ]
    }
   ],
   "source": [
    "df.show()"
   ]
  },
  {
   "cell_type": "code",
   "execution_count": 59,
   "metadata": {},
   "outputs": [
    {
     "name": "stdout",
     "output_type": "stream",
     "text": [
      "+-------+------+--------+\n",
      "|   name|   eps|currency|\n",
      "+-------+------+--------+\n",
      "| Google| 27.99|     USD|\n",
      "|Netflix|  2.56|     USD|\n",
      "| Amazon|  6.12|     USD|\n",
      "|  Tesla|  1.86|     USD|\n",
      "|Tencent| 11.01|     HKD|\n",
      "| Toyota|224.82|     JPY|\n",
      "|Samsung|1780.0|     KRW|\n",
      "|  Kakao| 705.0|     KRW|\n",
      "+-------+------+--------+\n",
      "\n"
     ]
    }
   ],
   "source": [
    "df2.show()"
   ]
  },
  {
   "cell_type": "code",
   "execution_count": 13,
   "metadata": {},
   "outputs": [],
   "source": [
    "# if you want to use dateframe in pyspark-sql, have to enroll at temporary view.\n",
    "\n",
    "df.createOrReplaceTempView('stocks')"
   ]
  },
  {
   "cell_type": "code",
   "execution_count": 60,
   "metadata": {},
   "outputs": [],
   "source": [
    "df2.createOrReplaceTempView('earnings')"
   ]
  },
  {
   "cell_type": "code",
   "execution_count": 25,
   "metadata": {},
   "outputs": [
    {
     "name": "stdout",
     "output_type": "stream",
     "text": [
      "+-------+------+\n",
      "|   name| price|\n",
      "+-------+------+\n",
      "| Google|  2984|\n",
      "| Amazon|  3518|\n",
      "|Samsung| 70600|\n",
      "|  Kakao|125000|\n",
      "+-------+------+\n",
      "\n"
     ]
    }
   ],
   "source": [
    "ss.sql(\"select name, price from stocks where price >= 2000 and currency != 'JPY'\").show()"
   ]
  },
  {
   "cell_type": "code",
   "execution_count": 41,
   "metadata": {},
   "outputs": [
    {
     "name": "stdout",
     "output_type": "stream",
     "text": [
      "+------+-----+--------+\n",
      "|  name|price|currency|\n",
      "+------+-----+--------+\n",
      "|Amazon| 3518|     USD|\n",
      "|Google| 2984|     USD|\n",
      "| Tesla| 1222|     USD|\n",
      "+------+-----+--------+\n",
      "\n"
     ]
    }
   ],
   "source": [
    "ss.sql(\"select name, price, currency from stocks \\\n",
    "       where currency = 'USD' and\\\n",
    "       price > (select price from stocks where ticker = 'NFLX')\\\n",
    "       order by price desc\").show()"
   ]
  },
  {
   "cell_type": "code",
   "execution_count": 40,
   "metadata": {},
   "outputs": [
    {
     "name": "stdout",
     "output_type": "stream",
     "text": [
      "+------+-----+--------+\n",
      "|  name|price|currency|\n",
      "+------+-----+--------+\n",
      "| Tesla| 1222|     USD|\n",
      "|Google| 2984|     USD|\n",
      "|Amazon| 3518|     USD|\n",
      "+------+-----+--------+\n",
      "\n"
     ]
    }
   ],
   "source": [
    "ss.sql(\"select name, price, currency from stocks \\\n",
    "       where currency = 'USD' and\\\n",
    "       price > (select price from stocks where ticker = 'NFLX')\\\n",
    "       order by length(name) asc\").show()"
   ]
  },
  {
   "cell_type": "code",
   "execution_count": 49,
   "metadata": {},
   "outputs": [
    {
     "name": "stdout",
     "output_type": "stream",
     "text": [
      "+-------+------+---------+------+--------+\n",
      "|   name|ticker|  country| price|currency|\n",
      "+-------+------+---------+------+--------+\n",
      "| Google| GOOGL|      USA|  2984|     USD|\n",
      "|Netflix|  NFLX|      USA|   645|     USD|\n",
      "| Amazon|  AMZN|      USA|  3518|     USD|\n",
      "|  Tesla|  TSLA|      USD|  1222|     USD|\n",
      "|Tencent|  0070|HONG KONG|   483|     HKD|\n",
      "| Toyota|  7203|    Japan|  2006|     JPY|\n",
      "|Samsung|005930|    Korea| 70600|     KRW|\n",
      "|  Kakao|035720|    Korea|125000|     KRW|\n",
      "+-------+------+---------+------+--------+\n",
      "\n"
     ]
    }
   ],
   "source": [
    "ss.sql(\"select * from stocks\").show()"
   ]
  },
  {
   "cell_type": "code",
   "execution_count": 52,
   "metadata": {},
   "outputs": [
    {
     "name": "stdout",
     "output_type": "stream",
     "text": [
      "+-------+------+---------+------+--------+-------+\n",
      "|   name|ticker|  country| price|currency|caution|\n",
      "+-------+------+---------+------+--------+-------+\n",
      "| Google| GOOGL|      USA|  2984|     USD|  alert|\n",
      "|Netflix|  NFLX|      USA|   645|     USD|   None|\n",
      "| Amazon|  AMZN|      USA|  3518|     USD|  alert|\n",
      "|  Tesla|  TSLA|      USD|  1222|     USD|   None|\n",
      "|Tencent|  0070|HONG KONG|   483|     HKD|   None|\n",
      "| Toyota|  7203|    Japan|  2006|     JPY|  alert|\n",
      "|Samsung|005930|    Korea| 70600|     KRW|  alert|\n",
      "|  Kakao|035720|    Korea|125000|     KRW|  alert|\n",
      "+-------+------+---------+------+--------+-------+\n",
      "\n"
     ]
    }
   ],
   "source": [
    "# when you use case,  attach ',' behind select part like this 'select *,' \n",
    "\n",
    "ss.sql(\"select *, \\\n",
    "       case when price >= 2000 then 'alert'\\\n",
    "       else 'None'\\\n",
    "       end as caution\\\n",
    "       from stocks\").show()"
   ]
  },
  {
   "cell_type": "code",
   "execution_count": 53,
   "metadata": {},
   "outputs": [
    {
     "name": "stdout",
     "output_type": "stream",
     "text": [
      "+-------+------+---------+------+--------+-------+\n",
      "|   name|ticker|  country| price|currency|caution|\n",
      "+-------+------+---------+------+--------+-------+\n",
      "| Google| GOOGL|      USA|  2984|     USD|  alert|\n",
      "|Netflix|  NFLX|      USA|   645|     USD|   None|\n",
      "| Amazon|  AMZN|      USA|  3518|     USD|  alert|\n",
      "|  Tesla|  TSLA|      USD|  1222|     USD|   None|\n",
      "|Tencent|  0070|HONG KONG|   483|     HKD|   None|\n",
      "| Toyota|  7203|    Japan|  2006|     JPY|  alert|\n",
      "|Samsung|005930|    Korea| 70600|     KRW|  alert|\n",
      "|  Kakao|035720|    Korea|125000|     KRW|  alert|\n",
      "+-------+------+---------+------+--------+-------+\n",
      "\n"
     ]
    }
   ],
   "source": [
    "ss.sql(\"select *, \\\n",
    "       if (stocks.price >= 2000, 'alert', 'None') as caution\\\n",
    "       from stocks\").show()"
   ]
  },
  {
   "cell_type": "code",
   "execution_count": 61,
   "metadata": {},
   "outputs": [
    {
     "name": "stdout",
     "output_type": "stream",
     "text": [
      "+-------+------+--------+\n",
      "|   name|   eps|currency|\n",
      "+-------+------+--------+\n",
      "| Google| 27.99|     USD|\n",
      "|Netflix|  2.56|     USD|\n",
      "| Amazon|  6.12|     USD|\n",
      "|  Tesla|  1.86|     USD|\n",
      "|Tencent| 11.01|     HKD|\n",
      "| Toyota|224.82|     JPY|\n",
      "|Samsung|1780.0|     KRW|\n",
      "|  Kakao| 705.0|     KRW|\n",
      "+-------+------+--------+\n",
      "\n"
     ]
    }
   ],
   "source": [
    "df2.select('*').show()"
   ]
  },
  {
   "cell_type": "code",
   "execution_count": 69,
   "metadata": {},
   "outputs": [
    {
     "name": "stdout",
     "output_type": "stream",
     "text": [
      "+-------+------+---------+------+--------+------+\n",
      "|   name|ticker|  country| price|currency|   eps|\n",
      "+-------+------+---------+------+--------+------+\n",
      "| Amazon|  AMZN|      USA|  3518|     USD|  6.12|\n",
      "| Google| GOOGL|      USA|  2984|     USD| 27.99|\n",
      "|  Kakao|035720|    Korea|125000|     KRW| 705.0|\n",
      "|Netflix|  NFLX|      USA|   645|     USD|  2.56|\n",
      "|Samsung|005930|    Korea| 70600|     KRW|1780.0|\n",
      "|Tencent|  0070|HONG KONG|   483|     HKD| 11.01|\n",
      "|  Tesla|  TSLA|      USD|  1222|     USD|  1.86|\n",
      "| Toyota|  7203|    Japan|  2006|     JPY|224.82|\n",
      "+-------+------+---------+------+--------+------+\n",
      "\n"
     ]
    }
   ],
   "source": [
    "ss.sql(\"select stocks.*, earnings.eps from stocks \\\n",
    "       inner join earnings on stocks.name = earnings.name\").show()"
   ]
  },
  {
   "cell_type": "code",
   "execution_count": 73,
   "metadata": {},
   "outputs": [
    {
     "name": "stdout",
     "output_type": "stream",
     "text": [
      "+-------+------+---------+------+--------+------+------+\n",
      "|   name|ticker|  country| price|currency|   eps|   per|\n",
      "+-------+------+---------+------+--------+------+------+\n",
      "| Amazon|  AMZN|      USA|  3518|     USD|  6.12|574.84|\n",
      "| Google| GOOGL|      USA|  2984|     USD| 27.99|106.61|\n",
      "|  Kakao|035720|    Korea|125000|     KRW| 705.0| 177.3|\n",
      "|Netflix|  NFLX|      USA|   645|     USD|  2.56|251.95|\n",
      "|Samsung|005930|    Korea| 70600|     KRW|1780.0| 39.66|\n",
      "|Tencent|  0070|HONG KONG|   483|     HKD| 11.01| 43.87|\n",
      "|  Tesla|  TSLA|      USD|  1222|     USD|  1.86|656.99|\n",
      "| Toyota|  7203|    Japan|  2006|     JPY|224.82|  8.92|\n",
      "+-------+------+---------+------+--------+------+------+\n",
      "\n"
     ]
    }
   ],
   "source": [
    "ss.sql(\"select stocks.*, earnings.eps,\\\n",
    "       round(stocks.price/earnings.eps, 2) as per \\\n",
    "       from stocks \\\n",
    "       join earnings on stocks.name = earnings.name\").show()"
   ]
  }
 ],
 "metadata": {
  "kernelspec": {
   "display_name": "newkaf",
   "language": "python",
   "name": "python3"
  },
  "language_info": {
   "codemirror_mode": {
    "name": "ipython",
    "version": 3
   },
   "file_extension": ".py",
   "mimetype": "text/x-python",
   "name": "python",
   "nbconvert_exporter": "python",
   "pygments_lexer": "ipython3",
   "version": "3.8.0"
  },
  "orig_nbformat": 4
 },
 "nbformat": 4,
 "nbformat_minor": 2
}
